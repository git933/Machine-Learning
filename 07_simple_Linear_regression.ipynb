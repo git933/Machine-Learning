{
  "nbformat": 4,
  "nbformat_minor": 0,
  "metadata": {
    "colab": {
      "name": "07_simple Linear regression.ipynb",
      "provenance": [],
      "collapsed_sections": [],
      "mount_file_id": "1mnBLx_OsEBZX_aE9ILH3cgTqivFmb4ZM",
      "authorship_tag": "ABX9TyMp6rFUt/8SLUjq2TDmtoU7",
      "include_colab_link": true
    },
    "kernelspec": {
      "name": "python3",
      "display_name": "Python 3"
    },
    "language_info": {
      "name": "python"
    }
  },
  "cells": [
    {
      "cell_type": "markdown",
      "metadata": {
        "id": "view-in-github",
        "colab_type": "text"
      },
      "source": [
        "<a href=\"https://colab.research.google.com/github/git933/Machine-Learning/blob/main/07_simple_Linear_regression.ipynb\" target=\"_parent\"><img src=\"https://colab.research.google.com/assets/colab-badge.svg\" alt=\"Open In Colab\"/></a>"
      ]
    },
    {
      "cell_type": "markdown",
      "metadata": {
        "id": "71SIIyvTldQK"
      },
      "source": [
        "# TV 마케팅 비용 대비 매출에 대한 예측\n",
        "\n",
        "1. pandas를 이용한 데이터 탐색\n",
        "\n",
        "2. 데이터프레임 구조에 대한 이해"
      ]
    },
    {
      "cell_type": "code",
      "metadata": {
        "colab": {
          "base_uri": "https://localhost:8080/",
          "height": 202
        },
        "id": "kYaKcW3PlWtE",
        "outputId": "acc4eac4-aa77-46c1-a738-baa58935aebe"
      },
      "source": [
        "import pandas as pd\n",
        "import numpy as np\n",
        "import warnings\n",
        "\n",
        "advertising = pd.read_csv(\"/content/drive/MyDrive/MachineLearning_class/고우주-1일차_실습코드/02_Regression/data/tvmarketing.csv\")\n",
        "advertising.head()  # first 5 rows"
      ],
      "execution_count": 1,
      "outputs": [
        {
          "output_type": "execute_result",
          "data": {
            "text/html": [
              "<div>\n",
              "<style scoped>\n",
              "    .dataframe tbody tr th:only-of-type {\n",
              "        vertical-align: middle;\n",
              "    }\n",
              "\n",
              "    .dataframe tbody tr th {\n",
              "        vertical-align: top;\n",
              "    }\n",
              "\n",
              "    .dataframe thead th {\n",
              "        text-align: right;\n",
              "    }\n",
              "</style>\n",
              "<table border=\"1\" class=\"dataframe\">\n",
              "  <thead>\n",
              "    <tr style=\"text-align: right;\">\n",
              "      <th></th>\n",
              "      <th>TV</th>\n",
              "      <th>Sales</th>\n",
              "    </tr>\n",
              "  </thead>\n",
              "  <tbody>\n",
              "    <tr>\n",
              "      <th>0</th>\n",
              "      <td>230.1</td>\n",
              "      <td>22.1</td>\n",
              "    </tr>\n",
              "    <tr>\n",
              "      <th>1</th>\n",
              "      <td>44.5</td>\n",
              "      <td>10.4</td>\n",
              "    </tr>\n",
              "    <tr>\n",
              "      <th>2</th>\n",
              "      <td>17.2</td>\n",
              "      <td>9.3</td>\n",
              "    </tr>\n",
              "    <tr>\n",
              "      <th>3</th>\n",
              "      <td>151.5</td>\n",
              "      <td>18.5</td>\n",
              "    </tr>\n",
              "    <tr>\n",
              "      <th>4</th>\n",
              "      <td>180.8</td>\n",
              "      <td>12.9</td>\n",
              "    </tr>\n",
              "  </tbody>\n",
              "</table>\n",
              "</div>"
            ],
            "text/plain": [
              "      TV  Sales\n",
              "0  230.1   22.1\n",
              "1   44.5   10.4\n",
              "2   17.2    9.3\n",
              "3  151.5   18.5\n",
              "4  180.8   12.9"
            ]
          },
          "metadata": {
            "tags": []
          },
          "execution_count": 1
        }
      ]
    },
    {
      "cell_type": "code",
      "metadata": {
        "colab": {
          "base_uri": "https://localhost:8080/",
          "height": 202
        },
        "id": "zwvpBI8ymBsp",
        "outputId": "d207fa7e-05b9-4017-b6ca-59277741145b"
      },
      "source": [
        "advertising.tail()  # last 5 rows"
      ],
      "execution_count": 2,
      "outputs": [
        {
          "output_type": "execute_result",
          "data": {
            "text/html": [
              "<div>\n",
              "<style scoped>\n",
              "    .dataframe tbody tr th:only-of-type {\n",
              "        vertical-align: middle;\n",
              "    }\n",
              "\n",
              "    .dataframe tbody tr th {\n",
              "        vertical-align: top;\n",
              "    }\n",
              "\n",
              "    .dataframe thead th {\n",
              "        text-align: right;\n",
              "    }\n",
              "</style>\n",
              "<table border=\"1\" class=\"dataframe\">\n",
              "  <thead>\n",
              "    <tr style=\"text-align: right;\">\n",
              "      <th></th>\n",
              "      <th>TV</th>\n",
              "      <th>Sales</th>\n",
              "    </tr>\n",
              "  </thead>\n",
              "  <tbody>\n",
              "    <tr>\n",
              "      <th>195</th>\n",
              "      <td>38.2</td>\n",
              "      <td>7.6</td>\n",
              "    </tr>\n",
              "    <tr>\n",
              "      <th>196</th>\n",
              "      <td>94.2</td>\n",
              "      <td>9.7</td>\n",
              "    </tr>\n",
              "    <tr>\n",
              "      <th>197</th>\n",
              "      <td>177.0</td>\n",
              "      <td>12.8</td>\n",
              "    </tr>\n",
              "    <tr>\n",
              "      <th>198</th>\n",
              "      <td>283.6</td>\n",
              "      <td>25.5</td>\n",
              "    </tr>\n",
              "    <tr>\n",
              "      <th>199</th>\n",
              "      <td>232.1</td>\n",
              "      <td>13.4</td>\n",
              "    </tr>\n",
              "  </tbody>\n",
              "</table>\n",
              "</div>"
            ],
            "text/plain": [
              "        TV  Sales\n",
              "195   38.2    7.6\n",
              "196   94.2    9.7\n",
              "197  177.0   12.8\n",
              "198  283.6   25.5\n",
              "199  232.1   13.4"
            ]
          },
          "metadata": {
            "tags": []
          },
          "execution_count": 2
        }
      ]
    },
    {
      "cell_type": "code",
      "metadata": {
        "colab": {
          "base_uri": "https://localhost:8080/"
        },
        "id": "4cVrcRxhmDxi",
        "outputId": "d292f4a6-7177-402c-f19b-241272fb6509"
      },
      "source": [
        "advertising.shape"
      ],
      "execution_count": 3,
      "outputs": [
        {
          "output_type": "execute_result",
          "data": {
            "text/plain": [
              "(200, 2)"
            ]
          },
          "metadata": {
            "tags": []
          },
          "execution_count": 3
        }
      ]
    },
    {
      "cell_type": "code",
      "metadata": {
        "colab": {
          "base_uri": "https://localhost:8080/"
        },
        "id": "E4jQSAvYmHM6",
        "outputId": "b19d7161-0009-4980-f352-f4601705053b"
      },
      "source": [
        "advertising.info()"
      ],
      "execution_count": 4,
      "outputs": [
        {
          "output_type": "stream",
          "text": [
            "<class 'pandas.core.frame.DataFrame'>\n",
            "RangeIndex: 200 entries, 0 to 199\n",
            "Data columns (total 2 columns):\n",
            " #   Column  Non-Null Count  Dtype  \n",
            "---  ------  --------------  -----  \n",
            " 0   TV      200 non-null    float64\n",
            " 1   Sales   200 non-null    float64\n",
            "dtypes: float64(2)\n",
            "memory usage: 3.2 KB\n"
          ],
          "name": "stdout"
        }
      ]
    },
    {
      "cell_type": "code",
      "metadata": {
        "colab": {
          "base_uri": "https://localhost:8080/",
          "height": 294
        },
        "id": "7pF1zYR3mPu4",
        "outputId": "4be6188b-3cea-455d-fa9c-a2372774e30f"
      },
      "source": [
        "advertising.describe()"
      ],
      "execution_count": 5,
      "outputs": [
        {
          "output_type": "execute_result",
          "data": {
            "text/html": [
              "<div>\n",
              "<style scoped>\n",
              "    .dataframe tbody tr th:only-of-type {\n",
              "        vertical-align: middle;\n",
              "    }\n",
              "\n",
              "    .dataframe tbody tr th {\n",
              "        vertical-align: top;\n",
              "    }\n",
              "\n",
              "    .dataframe thead th {\n",
              "        text-align: right;\n",
              "    }\n",
              "</style>\n",
              "<table border=\"1\" class=\"dataframe\">\n",
              "  <thead>\n",
              "    <tr style=\"text-align: right;\">\n",
              "      <th></th>\n",
              "      <th>TV</th>\n",
              "      <th>Sales</th>\n",
              "    </tr>\n",
              "  </thead>\n",
              "  <tbody>\n",
              "    <tr>\n",
              "      <th>count</th>\n",
              "      <td>200.000000</td>\n",
              "      <td>200.000000</td>\n",
              "    </tr>\n",
              "    <tr>\n",
              "      <th>mean</th>\n",
              "      <td>147.042500</td>\n",
              "      <td>14.022500</td>\n",
              "    </tr>\n",
              "    <tr>\n",
              "      <th>std</th>\n",
              "      <td>85.854236</td>\n",
              "      <td>5.217457</td>\n",
              "    </tr>\n",
              "    <tr>\n",
              "      <th>min</th>\n",
              "      <td>0.700000</td>\n",
              "      <td>1.600000</td>\n",
              "    </tr>\n",
              "    <tr>\n",
              "      <th>25%</th>\n",
              "      <td>74.375000</td>\n",
              "      <td>10.375000</td>\n",
              "    </tr>\n",
              "    <tr>\n",
              "      <th>50%</th>\n",
              "      <td>149.750000</td>\n",
              "      <td>12.900000</td>\n",
              "    </tr>\n",
              "    <tr>\n",
              "      <th>75%</th>\n",
              "      <td>218.825000</td>\n",
              "      <td>17.400000</td>\n",
              "    </tr>\n",
              "    <tr>\n",
              "      <th>max</th>\n",
              "      <td>296.400000</td>\n",
              "      <td>27.000000</td>\n",
              "    </tr>\n",
              "  </tbody>\n",
              "</table>\n",
              "</div>"
            ],
            "text/plain": [
              "               TV       Sales\n",
              "count  200.000000  200.000000\n",
              "mean   147.042500   14.022500\n",
              "std     85.854236    5.217457\n",
              "min      0.700000    1.600000\n",
              "25%     74.375000   10.375000\n",
              "50%    149.750000   12.900000\n",
              "75%    218.825000   17.400000\n",
              "max    296.400000   27.000000"
            ]
          },
          "metadata": {
            "tags": []
          },
          "execution_count": 5
        }
      ]
    },
    {
      "cell_type": "markdown",
      "metadata": {
        "id": "9We6_nirmUcN"
      },
      "source": [
        "# seaborn을 이용한 시각화"
      ]
    },
    {
      "cell_type": "code",
      "metadata": {
        "id": "zVSwP1_nmV_k"
      },
      "source": [
        "import seaborn as sns\n",
        "%matplotlib inline"
      ],
      "execution_count": 6,
      "outputs": []
    },
    {
      "cell_type": "code",
      "metadata": {
        "colab": {
          "base_uri": "https://localhost:8080/",
          "height": 589
        },
        "id": "iA0ztv5hmcQW",
        "outputId": "46f312e6-5553-4bd0-ea8d-8c0619bc9c34"
      },
      "source": [
        "sns.pairplot(advertising, x_vars = ['TV'], \n",
        "             y_vars = 'Sales', size = 7, aspect = 0.7,\n",
        "             kind = 'scatter')"
      ],
      "execution_count": 7,
      "outputs": [
        {
          "output_type": "stream",
          "text": [
            "/usr/local/lib/python3.7/dist-packages/seaborn/axisgrid.py:1969: UserWarning: The `size` parameter has been renamed to `height`; please update your code.\n",
            "  warnings.warn(msg, UserWarning)\n"
          ],
          "name": "stderr"
        },
        {
          "output_type": "execute_result",
          "data": {
            "text/plain": [
              "<seaborn.axisgrid.PairGrid at 0x7f996fcb2590>"
            ]
          },
          "metadata": {
            "tags": []
          },
          "execution_count": 7
        },
        {
          "output_type": "display_data",
          "data": {
            "image/png": "[encoded data removed]",
            "text/plain": [
              "<Figure size 352.8x504 with 1 Axes>"
            ]
          },
          "metadata": {
            "tags": [],
            "needs_background": "light"
          }
        }
      ]
    },
    {
      "cell_type": "markdown",
      "metadata": {
        "id": "zz2Fo2WTmr7Y"
      },
      "source": [
        "**linear regression 공식**\n",
        "\n",
        "Equation of linear regression<br>\n",
        "$y = c + m_1x_1 + m_2x_2 + ... + m_nx_n$\n",
        "\n",
        "-  $y$ is the response (y target)\n",
        "-  $c$ is the intercept (절편)\n",
        "-  $m_1$ is the coefficient for the first feature (1차 상관계수)\n",
        "-  $m_n$ is the coefficient for the nth feature (n차 상관계수)<br>\n",
        "\n",
        "In our case:\n",
        "\n",
        "$y = c + m_1 \\times TV$\n",
        "\n",
        "The $m$ values are called the model **coefficients**(상관계수) or **model parameters**((파라미터)."
      ]
    },
    {
      "cell_type": "markdown",
      "metadata": {
        "id": "ayWQEXS6mv_i"
      },
      "source": [
        "# 최소제곱법으로 회귀선 구하기"
      ]
    },
    {
      "cell_type": "code",
      "metadata": {
        "colab": {
          "base_uri": "https://localhost:8080/",
          "height": 297
        },
        "id": "PiTOBF4Mm2cf",
        "outputId": "9f650575-2c4a-41e0-a21f-0625a0011c49"
      },
      "source": [
        "import matplotlib.pyplot as plt\n",
        "\n",
        "X = advertising.TV\n",
        "Y = advertising.Sales\n",
        "\n",
        "# X, Y의 평균\n",
        "x_bar = sum(X) / len(X)\n",
        "y_bar = sum(Y) / len(Y)\n",
        "\n",
        "# 최소제곱법 이용\n",
        "a = sum([(y - y_bar) * (x - x_bar) for y, x in list(zip(Y, X))])\n",
        "a /= sum([(x - x_bar) ** 2 for x in X])\n",
        "b = y_bar - a * x_bar\n",
        "print('a : ', a, 'b : ', b)\n",
        "\n",
        "# 그래프 그리기\n",
        "line_x = np.arange(min(X), max(X), 0.01)\n",
        "line_y = a * line_x + b\n",
        "plt.plot(line_x, line_y, 'r-')\n",
        "plt.plot(X, Y, 'bo')\n",
        "plt.xlabel('TV Advertisement(M$)')\n",
        "plt.ylabel('Sales Revenue(B$)')\n",
        "plt.show()"
      ],
      "execution_count": 8,
      "outputs": [
        {
          "output_type": "stream",
          "text": [
            "a :  0.04753664043301969 b :  7.032593549127705\n"
          ],
          "name": "stdout"
        },
        {
          "output_type": "display_data",
          "data": {
            "image/png": "[encoded data removed]",
            "text/plain": [
              "<Figure size 432x288 with 1 Axes>"
            ]
          },
          "metadata": {
            "tags": [],
            "needs_background": "light"
          }
        }
      ]
    },
    {
      "cell_type": "markdown",
      "metadata": {
        "id": "nW5nA5B2zU4J"
      },
      "source": [
        "# Model 구축 절차 : sklearn"
      ]
    },
    {
      "cell_type": "markdown",
      "metadata": {
        "id": "w93TWfxYzXbY"
      },
      "source": [
        "-  scikit-learn 라이브러리를 사용하려면 X (feature variable)와 y (response variable)를  NumPy 배열(arrays)로 구축\n",
        "\n",
        "-  X, y를 pandas 데이터프레임으로 전환한다, pandas는 NumPy의 array 기반으로 데이터프레임 쉽게 전환"
      ]
    },
    {
      "cell_type": "code",
      "metadata": {
        "colab": {
          "base_uri": "https://localhost:8080/"
        },
        "id": "y-ajCvG4zbfH",
        "outputId": "f29648f1-dc01-48cd-c69c-1dd77a76bc5d"
      },
      "source": [
        "X = advertising['TV'] # 변수 X\n",
        "X.head()"
      ],
      "execution_count": 9,
      "outputs": [
        {
          "output_type": "execute_result",
          "data": {
            "text/plain": [
              "0    230.1\n",
              "1     44.5\n",
              "2     17.2\n",
              "3    151.5\n",
              "4    180.8\n",
              "Name: TV, dtype: float64"
            ]
          },
          "metadata": {
            "tags": []
          },
          "execution_count": 9
        }
      ]
    },
    {
      "cell_type": "code",
      "metadata": {
        "colab": {
          "base_uri": "https://localhost:8080/"
        },
        "id": "3QzrMaQAzhb8",
        "outputId": "2a5cfdfc-9db7-4ffb-c9bd-2b278ad38d0d"
      },
      "source": [
        "y = advertising['Sales']  # target Y\n",
        "y.head()"
      ],
      "execution_count": 10,
      "outputs": [
        {
          "output_type": "execute_result",
          "data": {
            "text/plain": [
              "0    22.1\n",
              "1    10.4\n",
              "2     9.3\n",
              "3    18.5\n",
              "4    12.9\n",
              "Name: Sales, dtype: float64"
            ]
          },
          "metadata": {
            "tags": []
          },
          "execution_count": 10
        }
      ]
    },
    {
      "cell_type": "code",
      "metadata": {
        "id": "EFDsZxEczrdq"
      },
      "source": [
        "from sklearn.model_selection import train_test_split\n",
        "X_train, X_test, y_train, y_test = train_test_split(X, y, \n",
        "                                                    train_size = 0.7,\n",
        "                                                    random_state = 100)"
      ],
      "execution_count": 11,
      "outputs": []
    },
    {
      "cell_type": "code",
      "metadata": {
        "id": "hrG4XQ_P2vsO"
      },
      "source": [
        "train_test_split?"
      ],
      "execution_count": 12,
      "outputs": []
    },
    {
      "cell_type": "markdown",
      "metadata": {
        "id": "fRoAxOfY0LLR"
      },
      "source": [
        "Signature : **train_test_split(*arrays, **options)**\n",
        "\n",
        "\n",
        "Docstring :\n",
        "Split arrays or matrices into random train and test subsets\n",
        "\n",
        "\n",
        "Quick utility that wraps input validation and\n",
        "``next(ShuffleSplit().split(X, y))`` and application to input data\n",
        "into a single call for splitting (and optionally subsampling) data in a\n",
        "oneliner.\n",
        "\n",
        "Read more in the :ref:`User Guide <cross_validation>`.\n",
        "\n",
        "\n",
        "\n",
        "---\n",
        "\n",
        "\n",
        "Parameters\n",
        "----------\n",
        "***arrays** : sequence of indexables with same length / shape[0]\n",
        "\n",
        "    Allowed inputs are lists, numpy arrays, scipy-sparse\n",
        "    matrices or pandas dataframes.\n",
        "\n",
        "**test_size** : float, int or None, optional (default=None)\n",
        "\n",
        "    If float, should be between 0.0 and 1.0 and represent the proportion\n",
        "    of the dataset to include in the test split. \n",
        "    If int, represents the absolute number of test samples. \n",
        "    If None, the value is set to the complement of the train size. \n",
        "    If ``train_size`` is also None, it will be set to 0.25.\n",
        "\n",
        "**train_size** : float, int, or None, (default=None)\n",
        "\n",
        "    If float, should be between 0.0 and 1.0 and represent the proportion of the dataset to include in the train split. \n",
        "    If int, represents the absolute number of train samples.\n",
        "    If None, the value is automatically set to the complement of the test size.\n",
        "\n",
        "**random_state** : int, RandomState instance or None, optional (default=None)\n",
        "\n",
        "    If int, random_state is the seed used by the random number generator;\n",
        "    If RandomState instance, random_state is the random number generator;\n",
        "    If None, the random number generator is the RandomState instance used by `np.random`.\n",
        "\n",
        "**shuffle** : boolean, optional (default=True)\n",
        "\n",
        "    Whether or not to shuffle the data before splitting. \n",
        "    If shuffle=False then stratify must be None.\n",
        "\n",
        "**stratify** : array-like or None (default=None)\n",
        "\n",
        "    If not None, data is split in a stratified fashion, using this as\n",
        "    the class labels.\n",
        "\n",
        "\n",
        "---\n",
        "\n",
        "\n",
        "\n",
        "Returns\n",
        "-------\n",
        "splitting : list, length=2 * len(arrays)\n",
        "\n",
        "    List containing train-test split of inputs.\n",
        "    .. versionadded:: 0.16\n",
        "\n",
        "        If the input is sparse, the output will be a ``scipy.sparse.csr_matrix``. \n",
        "        Else, output type is the same as the input type.\n",
        "---\n"
      ]
    },
    {
      "cell_type": "code",
      "metadata": {
        "colab": {
          "base_uri": "https://localhost:8080/"
        },
        "id": "FXxmMigT6TgY",
        "outputId": "ad6bee99-9e9e-428c-a8ed-5b22c0c6921a"
      },
      "source": [
        "print(X_train.shape)\n",
        "print(X_test.shape)"
      ],
      "execution_count": 13,
      "outputs": [
        {
          "output_type": "stream",
          "text": [
            "(140,)\n",
            "(60,)\n"
          ],
          "name": "stdout"
        }
      ]
    },
    {
      "cell_type": "code",
      "metadata": {
        "colab": {
          "base_uri": "https://localhost:8080/"
        },
        "id": "ZMO3Dic96ZDE",
        "outputId": "59bb29b2-8165-46dd-8c94-5acbe80d4e8a"
      },
      "source": [
        "print(type(X_train))\n",
        "print(type(X_test))\n",
        "print(type(y_train))\n",
        "print(type(y_test))"
      ],
      "execution_count": 14,
      "outputs": [
        {
          "output_type": "stream",
          "text": [
            "<class 'pandas.core.series.Series'>\n",
            "<class 'pandas.core.series.Series'>\n",
            "<class 'pandas.core.series.Series'>\n",
            "<class 'pandas.core.series.Series'>\n"
          ],
          "name": "stdout"
        }
      ]
    },
    {
      "cell_type": "code",
      "metadata": {
        "colab": {
          "base_uri": "https://localhost:8080/"
        },
        "id": "g6xCvyCwdlgZ",
        "outputId": "73adcced-fd99-4e01-bac0-48308a1b7ab6"
      },
      "source": [
        "print(X_train.shape)\n",
        "print(y_train.shape)\n",
        "print(X_test.shape)\n",
        "print(y_test.shape)\n",
        "print"
      ],
      "execution_count": 15,
      "outputs": [
        {
          "output_type": "stream",
          "text": [
            "(140,)\n",
            "(140,)\n",
            "(60,)\n",
            "(60,)\n"
          ],
          "name": "stdout"
        },
        {
          "output_type": "execute_result",
          "data": {
            "text/plain": [
              "<function print>"
            ]
          },
          "metadata": {
            "tags": []
          },
          "execution_count": 15
        }
      ]
    },
    {
      "cell_type": "code",
      "metadata": {
        "colab": {
          "base_uri": "https://localhost:8080/"
        },
        "id": "Fzgu8M2kds1I",
        "outputId": "1998206c-5c12-4911-b350-bf2452c2526b"
      },
      "source": [
        "import numpy as np\n",
        "\n",
        "X_train = X_train[:, np.newaxis]\n",
        "X_test = X_test[:, np.newaxis]"
      ],
      "execution_count": 16,
      "outputs": [
        {
          "output_type": "stream",
          "text": [
            "/usr/local/lib/python3.7/dist-packages/ipykernel_launcher.py:3: FutureWarning: Support for multi-dimensional indexing (e.g. `obj[:, None]`) is deprecated and will be removed in a future version.  Convert to a numpy array before indexing instead.\n",
            "  This is separate from the ipykernel package so we can avoid doing imports until\n",
            "/usr/local/lib/python3.7/dist-packages/ipykernel_launcher.py:4: FutureWarning: Support for multi-dimensional indexing (e.g. `obj[:, None]`) is deprecated and will be removed in a future version.  Convert to a numpy array before indexing instead.\n",
            "  after removing the cwd from sys.path.\n"
          ],
          "name": "stderr"
        }
      ]
    },
    {
      "cell_type": "code",
      "metadata": {
        "colab": {
          "base_uri": "https://localhost:8080/"
        },
        "id": "szouEIbg1cmv",
        "outputId": "fb78f41c-b1fd-4f95-ed08-dae887de6ef7"
      },
      "source": [
        "list(y)"
      ],
      "execution_count": 17,
      "outputs": [
        {
          "output_type": "execute_result",
          "data": {
            "text/plain": [
              "[22.1,\n",
              " 10.4,\n",
              " 9.3,\n",
              " 18.5,\n",
              " 12.9,\n",
              " 7.2,\n",
              " 11.8,\n",
              " 13.2,\n",
              " 4.8,\n",
              " 10.6,\n",
              " 8.6,\n",
              " 17.4,\n",
              " 9.2,\n",
              " 9.7,\n",
              " 19.0,\n",
              " 22.4,\n",
              " 12.5,\n",
              " 24.4,\n",
              " 11.3,\n",
              " 14.6,\n",
              " 18.0,\n",
              " 12.5,\n",
              " 5.6,\n",
              " 15.5,\n",
              " 9.7,\n",
              " 12.0,\n",
              " 15.0,\n",
              " 15.9,\n",
              " 18.9,\n",
              " 10.5,\n",
              " 21.4,\n",
              " 11.9,\n",
              " 9.6,\n",
              " 17.4,\n",
              " 9.5,\n",
              " 12.8,\n",
              " 25.4,\n",
              " 14.7,\n",
              " 10.1,\n",
              " 21.5,\n",
              " 16.6,\n",
              " 17.1,\n",
              " 20.7,\n",
              " 12.9,\n",
              " 8.5,\n",
              " 14.9,\n",
              " 10.6,\n",
              " 23.2,\n",
              " 14.8,\n",
              " 9.7,\n",
              " 11.4,\n",
              " 10.7,\n",
              " 22.6,\n",
              " 21.2,\n",
              " 20.2,\n",
              " 23.7,\n",
              " 5.5,\n",
              " 13.2,\n",
              " 23.8,\n",
              " 18.4,\n",
              " 8.1,\n",
              " 24.2,\n",
              " 15.7,\n",
              " 14.0,\n",
              " 18.0,\n",
              " 9.3,\n",
              " 9.5,\n",
              " 13.4,\n",
              " 18.9,\n",
              " 22.3,\n",
              " 18.3,\n",
              " 12.4,\n",
              " 8.8,\n",
              " 11.0,\n",
              " 17.0,\n",
              " 8.7,\n",
              " 6.9,\n",
              " 14.2,\n",
              " 5.3,\n",
              " 11.0,\n",
              " 11.8,\n",
              " 12.3,\n",
              " 11.3,\n",
              " 13.6,\n",
              " 21.7,\n",
              " 15.2,\n",
              " 12.0,\n",
              " 16.0,\n",
              " 12.9,\n",
              " 16.7,\n",
              " 11.2,\n",
              " 7.3,\n",
              " 19.4,\n",
              " 22.2,\n",
              " 11.5,\n",
              " 16.9,\n",
              " 11.7,\n",
              " 15.5,\n",
              " 25.4,\n",
              " 17.2,\n",
              " 11.7,\n",
              " 23.8,\n",
              " 14.8,\n",
              " 14.7,\n",
              " 20.7,\n",
              " 19.2,\n",
              " 7.2,\n",
              " 8.7,\n",
              " 5.3,\n",
              " 19.8,\n",
              " 13.4,\n",
              " 21.8,\n",
              " 14.1,\n",
              " 15.9,\n",
              " 14.6,\n",
              " 12.6,\n",
              " 12.2,\n",
              " 9.4,\n",
              " 15.9,\n",
              " 6.6,\n",
              " 15.5,\n",
              " 7.0,\n",
              " 11.6,\n",
              " 15.2,\n",
              " 19.7,\n",
              " 10.6,\n",
              " 6.6,\n",
              " 8.8,\n",
              " 24.7,\n",
              " 9.7,\n",
              " 1.6,\n",
              " 12.7,\n",
              " 5.7,\n",
              " 19.6,\n",
              " 10.8,\n",
              " 11.6,\n",
              " 9.5,\n",
              " 20.8,\n",
              " 9.6,\n",
              " 20.7,\n",
              " 10.9,\n",
              " 19.2,\n",
              " 20.1,\n",
              " 10.4,\n",
              " 11.4,\n",
              " 10.3,\n",
              " 13.2,\n",
              " 25.4,\n",
              " 10.9,\n",
              " 10.1,\n",
              " 16.1,\n",
              " 11.6,\n",
              " 16.6,\n",
              " 19.0,\n",
              " 15.6,\n",
              " 3.2,\n",
              " 15.3,\n",
              " 10.1,\n",
              " 7.3,\n",
              " 12.9,\n",
              " 14.4,\n",
              " 13.3,\n",
              " 14.9,\n",
              " 18.0,\n",
              " 11.9,\n",
              " 11.9,\n",
              " 8.0,\n",
              " 12.2,\n",
              " 17.1,\n",
              " 15.0,\n",
              " 8.4,\n",
              " 14.5,\n",
              " 7.6,\n",
              " 11.7,\n",
              " 11.5,\n",
              " 27.0,\n",
              " 20.2,\n",
              " 11.7,\n",
              " 11.8,\n",
              " 12.6,\n",
              " 10.5,\n",
              " 12.2,\n",
              " 8.7,\n",
              " 26.2,\n",
              " 17.6,\n",
              " 22.6,\n",
              " 10.3,\n",
              " 17.3,\n",
              " 15.9,\n",
              " 6.7,\n",
              " 10.8,\n",
              " 9.9,\n",
              " 5.9,\n",
              " 19.6,\n",
              " 17.3,\n",
              " 7.6,\n",
              " 9.7,\n",
              " 12.8,\n",
              " 25.5,\n",
              " 13.4]"
            ]
          },
          "metadata": {
            "tags": []
          },
          "execution_count": 17
        }
      ]
    },
    {
      "cell_type": "code",
      "metadata": {
        "colab": {
          "base_uri": "https://localhost:8080/"
        },
        "id": "lUGYp2SJ1g81",
        "outputId": "aa946079-07d3-403a-be87-d3593cc869f4"
      },
      "source": [
        "X_train, X_test, y_train, y_test = train_test_split(X, y, test_size=0.33, random_state=42)\n",
        "\n",
        "X_train"
      ],
      "execution_count": 18,
      "outputs": [
        {
          "output_type": "execute_result",
          "data": {
            "text/plain": [
              "42     293.6\n",
              "189     18.7\n",
              "90     134.3\n",
              "136     25.6\n",
              "51     100.4\n",
              "       ...  \n",
              "106     25.0\n",
              "14     204.1\n",
              "92     217.7\n",
              "179    165.6\n",
              "102    280.2\n",
              "Name: TV, Length: 134, dtype: float64"
            ]
          },
          "metadata": {
            "tags": []
          },
          "execution_count": 18
        }
      ]
    },
    {
      "cell_type": "code",
      "metadata": {
        "colab": {
          "base_uri": "https://localhost:8080/"
        },
        "id": "UkI15EuV1mcF",
        "outputId": "16e24fd4-448c-4cdd-b4d2-c2e8a361fa55"
      },
      "source": [
        "y_train"
      ],
      "execution_count": 19,
      "outputs": [
        {
          "output_type": "execute_result",
          "data": {
            "text/plain": [
              "42     20.7\n",
              "189     6.7\n",
              "90     11.2\n",
              "136     9.5\n",
              "51     10.7\n",
              "       ... \n",
              "106     7.2\n",
              "14     19.0\n",
              "92     19.4\n",
              "179    12.6\n",
              "102    14.8\n",
              "Name: Sales, Length: 134, dtype: float64"
            ]
          },
          "metadata": {
            "tags": []
          },
          "execution_count": 19
        }
      ]
    },
    {
      "cell_type": "code",
      "metadata": {
        "colab": {
          "base_uri": "https://localhost:8080/"
        },
        "id": "Ypw3ELUM1pVm",
        "outputId": "e64c1129-2c95-4182-d3c6-1a22da454ecc"
      },
      "source": [
        "X_test"
      ],
      "execution_count": 20,
      "outputs": [
        {
          "output_type": "execute_result",
          "data": {
            "text/plain": [
              "95     163.3\n",
              "15     195.4\n",
              "30     292.9\n",
              "158     11.7\n",
              "128    220.3\n",
              "       ...  \n",
              "97     184.9\n",
              "31     112.9\n",
              "12      23.8\n",
              "35     290.7\n",
              "119     19.4\n",
              "Name: TV, Length: 66, dtype: float64"
            ]
          },
          "metadata": {
            "tags": []
          },
          "execution_count": 20
        }
      ]
    },
    {
      "cell_type": "code",
      "metadata": {
        "colab": {
          "base_uri": "https://localhost:8080/"
        },
        "id": "8k4bjn2A1tra",
        "outputId": "1e589004-f998-4e66-c235-197f8b0ae562"
      },
      "source": [
        "y_test"
      ],
      "execution_count": 21,
      "outputs": [
        {
          "output_type": "execute_result",
          "data": {
            "text/plain": [
              "95     16.9\n",
              "15     22.4\n",
              "30     21.4\n",
              "158     7.3\n",
              "128    24.7\n",
              "       ... \n",
              "97     15.5\n",
              "31     11.9\n",
              "12      9.2\n",
              "35     12.8\n",
              "119     6.6\n",
              "Name: Sales, Length: 66, dtype: float64"
            ]
          },
          "metadata": {
            "tags": []
          },
          "execution_count": 21
        }
      ]
    },
    {
      "cell_type": "code",
      "metadata": {
        "colab": {
          "base_uri": "https://localhost:8080/"
        },
        "id": "sPX7mCoo1wFJ",
        "outputId": "ed34d889-b45b-43cb-e406-6e00052a692f"
      },
      "source": [
        "train_test_split(y, shuffle=False)"
      ],
      "execution_count": 22,
      "outputs": [
        {
          "output_type": "execute_result",
          "data": {
            "text/plain": [
              "[0      22.1\n",
              " 1      10.4\n",
              " 2       9.3\n",
              " 3      18.5\n",
              " 4      12.9\n",
              "        ... \n",
              " 145    10.3\n",
              " 146    13.2\n",
              " 147    25.4\n",
              " 148    10.9\n",
              " 149    10.1\n",
              " Name: Sales, Length: 150, dtype: float64, 150    16.1\n",
              " 151    11.6\n",
              " 152    16.6\n",
              " 153    19.0\n",
              " 154    15.6\n",
              " 155     3.2\n",
              " 156    15.3\n",
              " 157    10.1\n",
              " 158     7.3\n",
              " 159    12.9\n",
              " 160    14.4\n",
              " 161    13.3\n",
              " 162    14.9\n",
              " 163    18.0\n",
              " 164    11.9\n",
              " 165    11.9\n",
              " 166     8.0\n",
              " 167    12.2\n",
              " 168    17.1\n",
              " 169    15.0\n",
              " 170     8.4\n",
              " 171    14.5\n",
              " 172     7.6\n",
              " 173    11.7\n",
              " 174    11.5\n",
              " 175    27.0\n",
              " 176    20.2\n",
              " 177    11.7\n",
              " 178    11.8\n",
              " 179    12.6\n",
              " 180    10.5\n",
              " 181    12.2\n",
              " 182     8.7\n",
              " 183    26.2\n",
              " 184    17.6\n",
              " 185    22.6\n",
              " 186    10.3\n",
              " 187    17.3\n",
              " 188    15.9\n",
              " 189     6.7\n",
              " 190    10.8\n",
              " 191     9.9\n",
              " 192     5.9\n",
              " 193    19.6\n",
              " 194    17.3\n",
              " 195     7.6\n",
              " 196     9.7\n",
              " 197    12.8\n",
              " 198    25.5\n",
              " 199    13.4\n",
              " Name: Sales, dtype: float64]"
            ]
          },
          "metadata": {
            "tags": []
          },
          "execution_count": 22
        }
      ]
    },
    {
      "cell_type": "markdown",
      "metadata": {
        "id": "tXWUVQds1_O3"
      },
      "source": [
        "linear regression 모델링"
      ]
    },
    {
      "cell_type": "code",
      "metadata": {
        "id": "atAJb4b_f6Up"
      },
      "source": [
        "X_train1 = X_train.values.reshape(-1, 1)"
      ],
      "execution_count": 23,
      "outputs": []
    },
    {
      "cell_type": "code",
      "metadata": {
        "colab": {
          "base_uri": "https://localhost:8080/"
        },
        "id": "Z-y_SThz2BU9",
        "outputId": "5bf3b5cb-f219-4604-fbf4-09427f2d4f52"
      },
      "source": [
        "# import LinearRegression from sklearn\n",
        "from sklearn.linear_model import LinearRegression\n",
        "\n",
        "lr = LinearRegression()\n",
        "lr.fit(X_train1, y_train)"
      ],
      "execution_count": 24,
      "outputs": [
        {
          "output_type": "execute_result",
          "data": {
            "text/plain": [
              "LinearRegression(copy_X=True, fit_intercept=True, n_jobs=None, normalize=False)"
            ]
          },
          "metadata": {
            "tags": []
          },
          "execution_count": 24
        }
      ]
    },
    {
      "cell_type": "markdown",
      "metadata": {
        "id": "DZA5spJm2Ms1"
      },
      "source": [
        "\n",
        "\n",
        "---\n",
        "\n"
      ]
    },
    {
      "cell_type": "markdown",
      "metadata": {
        "id": "tY1Y1bM32Nol"
      },
      "source": [
        "# coefficients calculation"
      ]
    },
    {
      "cell_type": "code",
      "metadata": {
        "colab": {
          "base_uri": "https://localhost:8080/"
        },
        "id": "LJQOkvc32TOY",
        "outputId": "fb12b316-86ba-4131-ee7e-e9f881c14df7"
      },
      "source": [
        "lr.intercept_"
      ],
      "execution_count": 25,
      "outputs": [
        {
          "output_type": "execute_result",
          "data": {
            "text/plain": [
              "7.066582521696444"
            ]
          },
          "metadata": {
            "tags": []
          },
          "execution_count": 25
        }
      ]
    },
    {
      "cell_type": "code",
      "metadata": {
        "colab": {
          "base_uri": "https://localhost:8080/"
        },
        "id": "8LhQL6282WQj",
        "outputId": "da5926aa-80d9-482d-cee3-eb68b71a961c"
      },
      "source": [
        "lr.coef_"
      ],
      "execution_count": 26,
      "outputs": [
        {
          "output_type": "execute_result",
          "data": {
            "text/plain": [
              "array([0.04822451])"
            ]
          },
          "metadata": {
            "tags": []
          },
          "execution_count": 26
        }
      ]
    },
    {
      "cell_type": "code",
      "metadata": {
        "colab": {
          "base_uri": "https://localhost:8080/"
        },
        "id": "ZIj1lU1U2bBI",
        "outputId": "bec65a8a-59fd-42c4-af0c-b76f5f0ecc43"
      },
      "source": [
        "# intercept(절편), coefficients(상관계수) 출력\n",
        "print(lr.intercept_)\n",
        "print(lr.coef_)"
      ],
      "execution_count": 27,
      "outputs": [
        {
          "output_type": "stream",
          "text": [
            "7.066582521696444\n",
            "[0.04822451]\n"
          ],
          "name": "stdout"
        }
      ]
    },
    {
      "cell_type": "markdown",
      "metadata": {
        "id": "P2EobfgC2ivF"
      },
      "source": [
        "$y = 6.989 + 0.0464 \\times TV $<br>"
      ]
    },
    {
      "cell_type": "markdown",
      "metadata": {
        "id": "gDHq0Rq52jd9"
      },
      "source": [
        "# predictions"
      ]
    },
    {
      "cell_type": "markdown",
      "metadata": {
        "id": "2K7ITbAnhq7Y"
      },
      "source": [
        "* reshape한 값을 새로운 변수에 넣어 줬을 때 정상적으로 실행되었다."
      ]
    },
    {
      "cell_type": "code",
      "metadata": {
        "id": "D9etns9yeGu5"
      },
      "source": [
        "X_test1 = X_test.values.reshape(-1, 1)"
      ],
      "execution_count": 28,
      "outputs": []
    },
    {
      "cell_type": "code",
      "metadata": {
        "colab": {
          "base_uri": "https://localhost:8080/"
        },
        "id": "KC-BXA_c2lll",
        "outputId": "3379e4a3-fc64-4a6c-a152-03602d74bb43"
      },
      "source": [
        "y_pred = lr.predict(X_test1)\n",
        "type(y_pred)"
      ],
      "execution_count": 29,
      "outputs": [
        {
          "output_type": "execute_result",
          "data": {
            "text/plain": [
              "numpy.ndarray"
            ]
          },
          "metadata": {
            "tags": []
          },
          "execution_count": 29
        }
      ]
    },
    {
      "cell_type": "code",
      "metadata": {
        "colab": {
          "base_uri": "https://localhost:8080/"
        },
        "id": "bNzhPAzg2q2X",
        "outputId": "96d78c1a-a2fa-4ccd-cf89-24ff189cf956"
      },
      "source": [
        "y_pred"
      ],
      "execution_count": 30,
      "outputs": [
        {
          "output_type": "execute_result",
          "data": {
            "text/plain": [
              "array([14.94164546, 16.48965233, 21.19154233,  7.63080932, 17.69044269,\n",
              "       10.68824343, 17.5216569 ,  9.47780816, 17.79171417, 15.51069472,\n",
              "        8.58565468,  9.77680014, 18.37523078,  7.32699489, 13.79390206,\n",
              "       15.2743946 ,  7.41862147, 16.59574625, 10.69788834, 18.51508186,\n",
              "       18.13410821, 10.33620449,  8.89911401, 19.16611279, 10.39407391,\n",
              "        9.64659396, 17.36251601, 13.78425716, 11.27176004,  7.47166843,\n",
              "       16.70184018, 10.40371881, 16.65843812,  7.88157679, 20.60320327,\n",
              "       18.55366147,  9.39582649, 20.26563168, 12.71849542,  8.39275662,\n",
              "       12.66062601, 15.60232129,  9.14505902, 10.07096967, 17.86887339,\n",
              "        8.90875891, 10.47123313, 14.17005326, 12.11086656, 10.74611285,\n",
              "       10.83773942, 15.18759048,  7.48613578,  7.44273372, 10.7509353 ,\n",
              "       13.30683448, 10.60626176, 21.03722388,  8.01178297, 16.59574625,\n",
              "       20.77681152, 15.98329494, 12.51113002,  8.21432593, 21.0854484 ,\n",
              "        8.00213807])"
            ]
          },
          "metadata": {
            "tags": []
          },
          "execution_count": 30
        }
      ]
    },
    {
      "cell_type": "markdown",
      "metadata": {
        "id": "IK37JT_O3BFB"
      },
      "source": [
        "# matplotlib를 이용한 예측결과 시각화"
      ]
    },
    {
      "cell_type": "code",
      "metadata": {
        "colab": {
          "base_uri": "https://localhost:8080/",
          "height": 334
        },
        "id": "z4kxH7Wz3Dk2",
        "outputId": "069f9943-2a0f-454e-b419-9bfa40eafcba"
      },
      "source": [
        "import matplotlib.pyplot as plt\n",
        "\n",
        "c = [i for i in range(1, 67, 1)]\n",
        "fig = plt.figure()\n",
        "plt.plot(c, y_test, color = \"blue\", linewidth = 2.5, linestyle = \"-\")\n",
        "plt.plot(c, y_pred, color = \"red\", linewidth = 2.5, linestyle = \"-\")\n",
        "fig.suptitle('Actual and Predicted', fontsize = 20)\n",
        "plt.xlabel('Index', fontsize = 18)\n",
        "plt.ylabel('Sales', fontsize = 16)"
      ],
      "execution_count": 31,
      "outputs": [
        {
          "output_type": "execute_result",
          "data": {
            "text/plain": [
              "Text(0, 0.5, 'Sales')"
            ]
          },
          "metadata": {
            "tags": []
          },
          "execution_count": 31
        },
        {
          "output_type": "display_data",
          "data": {
            "image/png": "[encoded data removed]",
            "text/plain": [
              "<Figure size 432x288 with 1 Axes>"
            ]
          },
          "metadata": {
            "tags": [],
            "needs_background": "light"
          }
        }
      ]
    },
    {
      "cell_type": "markdown",
      "metadata": {
        "id": "R5Nrr52nj8kI"
      },
      "source": [
        "error terms"
      ]
    },
    {
      "cell_type": "code",
      "metadata": {
        "colab": {
          "base_uri": "https://localhost:8080/",
          "height": 334
        },
        "id": "pfHRVaBsj-BX",
        "outputId": "15a44049-1a56-4e7c-94b0-17a7bfdf6c69"
      },
      "source": [
        "c = [i for i in range(1, 67, 1)]\n",
        "fig = plt.figure()\n",
        "plt.plot(c, y_test-y_pred, color = \"blue\", linewidth = 2.5, linestyle = \"-\")\n",
        "fig.suptitle('Error Terms', fontsize = 20)\n",
        "plt.xlabel('Index', fontsize = 18)\n",
        "plt.ylabel('ytest-ypred', fontsize = 16)"
      ],
      "execution_count": 32,
      "outputs": [
        {
          "output_type": "execute_result",
          "data": {
            "text/plain": [
              "Text(0, 0.5, 'ytest-ypred')"
            ]
          },
          "metadata": {
            "tags": []
          },
          "execution_count": 32
        },
        {
          "output_type": "display_data",
          "data": {
            "image/png": "[encoded data removed]",
            "text/plain": [
              "<Figure size 432x288 with 1 Axes>"
            ]
          },
          "metadata": {
            "tags": [],
            "needs_background": "light"
          }
        }
      ]
    },
    {
      "cell_type": "markdown",
      "metadata": {
        "id": "ZtAkEaKolQHW"
      },
      "source": [
        "# evaluation RMSE, R^2 values"
      ]
    },
    {
      "cell_type": "code",
      "metadata": {
        "id": "PCYM7iFblT6E"
      },
      "source": [
        "from sklearn.metrics import mean_squared_error, r2_score, mean_absolute_error\n",
        "\n",
        "mae = mean_absolute_error(y_test, y_pred)\n",
        "mse = mean_squared_error(y_test, y_pred)\n",
        "r_squared = r2_score(y_test, y_pred)"
      ],
      "execution_count": 33,
      "outputs": []
    },
    {
      "cell_type": "code",
      "metadata": {
        "colab": {
          "base_uri": "https://localhost:8080/"
        },
        "id": "TJwj_lqxl8PJ",
        "outputId": "07be38c9-a212-4cb2-b015-1124fe18cb69"
      },
      "source": [
        "print('Mean_absolute_error : ', mae)\n",
        "print('Mean_squared_error : ', mse)\n",
        "print('r_square_value : ', r_squared)"
      ],
      "execution_count": 34,
      "outputs": [
        {
          "output_type": "stream",
          "text": [
            "Mean_absolute_error :  2.3033658282608096\n",
            "Mean_squared_error :  9.712207417121473\n",
            "r_square_value :  0.6236886078089201\n"
          ],
          "name": "stdout"
        }
      ]
    }
  ]
}
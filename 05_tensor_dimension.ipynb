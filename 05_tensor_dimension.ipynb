{
  "nbformat": 4,
  "nbformat_minor": 0,
  "metadata": {
    "colab": {
      "name": "05_tensor dimension.ipynb",
      "provenance": [],
      "collapsed_sections": [],
      "mount_file_id": "10KOESr06XZHV3Aqm4dsj00EJGdpo1ASh",
      "authorship_tag": "ABX9TyPx6SN02B1qEe6876RT9qnp",
      "include_colab_link": true
    },
    "kernelspec": {
      "name": "python3",
      "display_name": "Python 3"
    },
    "language_info": {
      "name": "python"
    },
    "accelerator": "GPU"
  },
  "cells": [
    {
      "cell_type": "markdown",
      "metadata": {
        "id": "view-in-github",
        "colab_type": "text"
      },
      "source": [
        "<a href=\"https://colab.research.google.com/github/git933/Machine-Learning/blob/main/05_tensor_dimension.ipynb\" target=\"_parent\"><img src=\"https://colab.research.google.com/assets/colab-badge.svg\" alt=\"Open In Colab\"/></a>"
      ]
    },
    {
      "cell_type": "code",
      "metadata": {
        "colab": {
          "base_uri": "https://localhost:8080/"
        },
        "id": "jZjPL7n1-bx0",
        "outputId": "3b5be314-936b-476c-800b-68f18169f7e8"
      },
      "source": [
        "!pip install tensorflow-gpu==2.5.0-rc1\n",
        "import tensorflow as tf"
      ],
      "execution_count": null,
      "outputs": [
        {
          "output_type": "stream",
          "text": [
            "Collecting tensorflow-gpu==2.5.0-rc1\n",
            "\u001b[?25l  Downloading https://files.pythonhosted.org/packages/26/64/ddd9e16c8b654288b9b72f7cb9e17dde30dbdf5f3005103cdc335b3efa94/tensorflow_gpu-2.5.0rc1-cp37-cp37m-manylinux2010_x86_64.whl (454.2MB)\n",
            "\u001b[K     |████████████████████████████████| 454.2MB 37kB/s \n",
            "\u001b[?25hRequirement already satisfied: numpy~=1.19.2 in /usr/local/lib/python3.7/dist-packages (from tensorflow-gpu==2.5.0-rc1) (1.19.5)\n",
            "Requirement already satisfied: typing-extensions~=3.7.4 in /usr/local/lib/python3.7/dist-packages (from tensorflow-gpu==2.5.0-rc1) (3.7.4.3)\n",
            "Requirement already satisfied: gast==0.4.0 in /usr/local/lib/python3.7/dist-packages (from tensorflow-gpu==2.5.0-rc1) (0.4.0)\n",
            "Requirement already satisfied: keras-nightly~=2.5.0.dev in /usr/local/lib/python3.7/dist-packages (from tensorflow-gpu==2.5.0-rc1) (2.5.0.dev2021032900)\n",
            "Requirement already satisfied: google-pasta~=0.2 in /usr/local/lib/python3.7/dist-packages (from tensorflow-gpu==2.5.0-rc1) (0.2.0)\n",
            "Requirement already satisfied: opt-einsum~=3.3.0 in /usr/local/lib/python3.7/dist-packages (from tensorflow-gpu==2.5.0-rc1) (3.3.0)\n",
            "Requirement already satisfied: flatbuffers~=1.12.0 in /usr/local/lib/python3.7/dist-packages (from tensorflow-gpu==2.5.0-rc1) (1.12)\n",
            "Requirement already satisfied: tensorboard~=2.4 in /usr/local/lib/python3.7/dist-packages (from tensorflow-gpu==2.5.0-rc1) (2.5.0)\n",
            "Requirement already satisfied: six~=1.15.0 in /usr/local/lib/python3.7/dist-packages (from tensorflow-gpu==2.5.0-rc1) (1.15.0)\n",
            "Requirement already satisfied: h5py~=3.1.0 in /usr/local/lib/python3.7/dist-packages (from tensorflow-gpu==2.5.0-rc1) (3.1.0)\n",
            "Requirement already satisfied: astunparse~=1.6.3 in /usr/local/lib/python3.7/dist-packages (from tensorflow-gpu==2.5.0-rc1) (1.6.3)\n",
            "Requirement already satisfied: termcolor~=1.1.0 in /usr/local/lib/python3.7/dist-packages (from tensorflow-gpu==2.5.0-rc1) (1.1.0)\n",
            "Requirement already satisfied: grpcio~=1.34.0 in /usr/local/lib/python3.7/dist-packages (from tensorflow-gpu==2.5.0-rc1) (1.34.1)\n",
            "Requirement already satisfied: absl-py~=0.10 in /usr/local/lib/python3.7/dist-packages (from tensorflow-gpu==2.5.0-rc1) (0.12.0)\n",
            "Requirement already satisfied: tensorflow-estimator<2.6.0,>=2.5.0rc0 in /usr/local/lib/python3.7/dist-packages (from tensorflow-gpu==2.5.0-rc1) (2.5.0)\n",
            "Requirement already satisfied: wrapt~=1.12.1 in /usr/local/lib/python3.7/dist-packages (from tensorflow-gpu==2.5.0-rc1) (1.12.1)\n",
            "Requirement already satisfied: keras-preprocessing~=1.1.2 in /usr/local/lib/python3.7/dist-packages (from tensorflow-gpu==2.5.0-rc1) (1.1.2)\n",
            "Requirement already satisfied: protobuf>=3.9.2 in /usr/local/lib/python3.7/dist-packages (from tensorflow-gpu==2.5.0-rc1) (3.17.3)\n",
            "Requirement already satisfied: wheel~=0.35 in /usr/local/lib/python3.7/dist-packages (from tensorflow-gpu==2.5.0-rc1) (0.36.2)\n",
            "Requirement already satisfied: google-auth-oauthlib<0.5,>=0.4.1 in /usr/local/lib/python3.7/dist-packages (from tensorboard~=2.4->tensorflow-gpu==2.5.0-rc1) (0.4.4)\n",
            "Requirement already satisfied: tensorboard-plugin-wit>=1.6.0 in /usr/local/lib/python3.7/dist-packages (from tensorboard~=2.4->tensorflow-gpu==2.5.0-rc1) (1.8.0)\n",
            "Requirement already satisfied: setuptools>=41.0.0 in /usr/local/lib/python3.7/dist-packages (from tensorboard~=2.4->tensorflow-gpu==2.5.0-rc1) (57.0.0)\n",
            "Requirement already satisfied: markdown>=2.6.8 in /usr/local/lib/python3.7/dist-packages (from tensorboard~=2.4->tensorflow-gpu==2.5.0-rc1) (3.3.4)\n",
            "Requirement already satisfied: google-auth<2,>=1.6.3 in /usr/local/lib/python3.7/dist-packages (from tensorboard~=2.4->tensorflow-gpu==2.5.0-rc1) (1.32.1)\n",
            "Requirement already satisfied: werkzeug>=0.11.15 in /usr/local/lib/python3.7/dist-packages (from tensorboard~=2.4->tensorflow-gpu==2.5.0-rc1) (1.0.1)\n",
            "Requirement already satisfied: requests<3,>=2.21.0 in /usr/local/lib/python3.7/dist-packages (from tensorboard~=2.4->tensorflow-gpu==2.5.0-rc1) (2.23.0)\n",
            "Requirement already satisfied: tensorboard-data-server<0.7.0,>=0.6.0 in /usr/local/lib/python3.7/dist-packages (from tensorboard~=2.4->tensorflow-gpu==2.5.0-rc1) (0.6.1)\n",
            "Requirement already satisfied: cached-property; python_version < \"3.8\" in /usr/local/lib/python3.7/dist-packages (from h5py~=3.1.0->tensorflow-gpu==2.5.0-rc1) (1.5.2)\n",
            "Requirement already satisfied: requests-oauthlib>=0.7.0 in /usr/local/lib/python3.7/dist-packages (from google-auth-oauthlib<0.5,>=0.4.1->tensorboard~=2.4->tensorflow-gpu==2.5.0-rc1) (1.3.0)\n",
            "Requirement already satisfied: importlib-metadata; python_version < \"3.8\" in /usr/local/lib/python3.7/dist-packages (from markdown>=2.6.8->tensorboard~=2.4->tensorflow-gpu==2.5.0-rc1) (4.6.0)\n",
            "Requirement already satisfied: pyasn1-modules>=0.2.1 in /usr/local/lib/python3.7/dist-packages (from google-auth<2,>=1.6.3->tensorboard~=2.4->tensorflow-gpu==2.5.0-rc1) (0.2.8)\n",
            "Requirement already satisfied: rsa<5,>=3.1.4; python_version >= \"3.6\" in /usr/local/lib/python3.7/dist-packages (from google-auth<2,>=1.6.3->tensorboard~=2.4->tensorflow-gpu==2.5.0-rc1) (4.7.2)\n",
            "Requirement already satisfied: cachetools<5.0,>=2.0.0 in /usr/local/lib/python3.7/dist-packages (from google-auth<2,>=1.6.3->tensorboard~=2.4->tensorflow-gpu==2.5.0-rc1) (4.2.2)\n",
            "Requirement already satisfied: certifi>=2017.4.17 in /usr/local/lib/python3.7/dist-packages (from requests<3,>=2.21.0->tensorboard~=2.4->tensorflow-gpu==2.5.0-rc1) (2021.5.30)\n",
            "Requirement already satisfied: idna<3,>=2.5 in /usr/local/lib/python3.7/dist-packages (from requests<3,>=2.21.0->tensorboard~=2.4->tensorflow-gpu==2.5.0-rc1) (2.10)\n",
            "Requirement already satisfied: chardet<4,>=3.0.2 in /usr/local/lib/python3.7/dist-packages (from requests<3,>=2.21.0->tensorboard~=2.4->tensorflow-gpu==2.5.0-rc1) (3.0.4)\n",
            "Requirement already satisfied: urllib3!=1.25.0,!=1.25.1,<1.26,>=1.21.1 in /usr/local/lib/python3.7/dist-packages (from requests<3,>=2.21.0->tensorboard~=2.4->tensorflow-gpu==2.5.0-rc1) (1.24.3)\n",
            "Requirement already satisfied: oauthlib>=3.0.0 in /usr/local/lib/python3.7/dist-packages (from requests-oauthlib>=0.7.0->google-auth-oauthlib<0.5,>=0.4.1->tensorboard~=2.4->tensorflow-gpu==2.5.0-rc1) (3.1.1)\n",
            "Requirement already satisfied: zipp>=0.5 in /usr/local/lib/python3.7/dist-packages (from importlib-metadata; python_version < \"3.8\"->markdown>=2.6.8->tensorboard~=2.4->tensorflow-gpu==2.5.0-rc1) (3.4.1)\n",
            "Requirement already satisfied: pyasn1<0.5.0,>=0.4.6 in /usr/local/lib/python3.7/dist-packages (from pyasn1-modules>=0.2.1->google-auth<2,>=1.6.3->tensorboard~=2.4->tensorflow-gpu==2.5.0-rc1) (0.4.8)\n",
            "Installing collected packages: tensorflow-gpu\n",
            "Successfully installed tensorflow-gpu-2.5.0rc1\n",
            "INFO:tensorflow:Enabling eager execution\n",
            "INFO:tensorflow:Enabling v2 tensorshape\n",
            "INFO:tensorflow:Enabling resource variables\n",
            "INFO:tensorflow:Enabling tensor equality\n",
            "INFO:tensorflow:Enabling control flow v2\n"
          ],
          "name": "stdout"
        }
      ]
    },
    {
      "cell_type": "code",
      "metadata": {
        "colab": {
          "base_uri": "https://localhost:8080/",
          "height": 35
        },
        "id": "ekwNAzyu_JGI",
        "outputId": "04238cf3-a439-4558-de1c-c8618590187e"
      },
      "source": [
        "import tensorflow as tf\n",
        "import numpy as np\n",
        "tf.__version__"
      ],
      "execution_count": 1,
      "outputs": [
        {
          "output_type": "execute_result",
          "data": {
            "application/vnd.google.colaboratory.intrinsic+json": {
              "type": "string"
            },
            "text/plain": [
              "'2.5.0'"
            ]
          },
          "metadata": {
            "tags": []
          },
          "execution_count": 1
        }
      ]
    },
    {
      "cell_type": "code",
      "metadata": {
        "id": "QvsFNc-HAW87"
      },
      "source": [
        "import IPython.display as display"
      ],
      "execution_count": 2,
      "outputs": []
    },
    {
      "cell_type": "code",
      "metadata": {
        "colab": {
          "base_uri": "https://localhost:8080/"
        },
        "id": "KII2Z-ikAZul",
        "outputId": "bc0d88f5-20a8-44da-bc5e-49add021e576"
      },
      "source": [
        "a = np.ones(5)\n",
        "a = tf.multiply(a, 1)\n",
        "print(a)\n",
        "print(a.shape)"
      ],
      "execution_count": 3,
      "outputs": [
        {
          "output_type": "stream",
          "text": [
            "tf.Tensor([1. 1. 1. 1. 1.], shape=(5,), dtype=float64)\n",
            "(5,)\n"
          ],
          "name": "stdout"
        }
      ]
    },
    {
      "cell_type": "code",
      "metadata": {
        "colab": {
          "base_uri": "https://localhost:8080/"
        },
        "id": "EeAY-mydAkIh",
        "outputId": "4c6fe233-785c-412b-fec5-9e49513cc5a6"
      },
      "source": [
        "b = np.ones([2, 5])\n",
        "b = tf.multiply(b, 1)\n",
        "print(b)\n",
        "print(b.shape)"
      ],
      "execution_count": 4,
      "outputs": [
        {
          "output_type": "stream",
          "text": [
            "tf.Tensor(\n",
            "[[1. 1. 1. 1. 1.]\n",
            " [1. 1. 1. 1. 1.]], shape=(2, 5), dtype=float64)\n",
            "(2, 5)\n"
          ],
          "name": "stdout"
        }
      ]
    },
    {
      "cell_type": "code",
      "metadata": {
        "id": "PSttRuvwA-KA"
      },
      "source": [
        "file_path = tf.keras.utils.get_file('cat.jpg', \n",
        "                              'data:image/png;base64,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')"
      ],
      "execution_count": 27,
      "outputs": []
    },
    {
      "cell_type": "code",
      "metadata": {
        "colab": {
          "base_uri": "https://localhost:8080/"
        },
        "id": "1U57KsWRj3sQ",
        "outputId": "8a6c850b-361f-4d4f-921e-fc80573e0445"
      },
      "source": [
        "img_raw = tf.io.read_file(file_path)\n",
        "print(repr(img_raw)[:100] + \"...\")"
      ],
      "execution_count": 28,
      "outputs": [
        {
          "output_type": "stream",
          "text": [
            "<tf.Tensor: shape=(), dtype=string, numpy=b'<!DOCTYPE html PUBLIC \"-//W3C//DTD XHTML 1.0 Transitiona...\n"
          ],
          "name": "stdout"
        }
      ]
    },
    {
      "cell_type": "code",
      "metadata": {
        "colab": {
          "base_uri": "https://localhost:8080/",
          "height": 341
        },
        "id": "24iEtv9hkDb2",
        "outputId": "21e3ff3f-f5e3-44d1-894e-130da36dae4a"
      },
      "source": [
        "img_tensor = tf.image.decode_image(img_raw)\n",
        "print(img_tensor.shape)\n",
        "print(img_tensor.dtype)"
      ],
      "execution_count": 29,
      "outputs": [
        {
          "output_type": "error",
          "ename": "InvalidArgumentError",
          "evalue": "ignored",
          "traceback": [
            "\u001b[0;31m---------------------------------------------------------------------------\u001b[0m",
            "\u001b[0;31mInvalidArgumentError\u001b[0m                      Traceback (most recent call last)",
            "\u001b[0;32m<ipython-input-29-98cbbec5319b>\u001b[0m in \u001b[0;36m<module>\u001b[0;34m()\u001b[0m\n\u001b[0;32m----> 1\u001b[0;31m \u001b[0mimg_tensor\u001b[0m \u001b[0;34m=\u001b[0m \u001b[0mtf\u001b[0m\u001b[0;34m.\u001b[0m\u001b[0mimage\u001b[0m\u001b[0;34m.\u001b[0m\u001b[0mdecode_image\u001b[0m\u001b[0;34m(\u001b[0m\u001b[0mimg_raw\u001b[0m\u001b[0;34m)\u001b[0m\u001b[0;34m\u001b[0m\u001b[0;34m\u001b[0m\u001b[0m\n\u001b[0m\u001b[1;32m      2\u001b[0m \u001b[0mprint\u001b[0m\u001b[0;34m(\u001b[0m\u001b[0mimg_tensor\u001b[0m\u001b[0;34m.\u001b[0m\u001b[0mshape\u001b[0m\u001b[0;34m)\u001b[0m\u001b[0;34m\u001b[0m\u001b[0;34m\u001b[0m\u001b[0m\n\u001b[1;32m      3\u001b[0m \u001b[0mprint\u001b[0m\u001b[0;34m(\u001b[0m\u001b[0mimg_tensor\u001b[0m\u001b[0;34m.\u001b[0m\u001b[0mdtype\u001b[0m\u001b[0;34m)\u001b[0m\u001b[0;34m\u001b[0m\u001b[0;34m\u001b[0m\u001b[0m\n",
            "\u001b[0;32m/usr/local/lib/python3.7/dist-packages/tensorflow/python/util/dispatch.py\u001b[0m in \u001b[0;36mwrapper\u001b[0;34m(*args, **kwargs)\u001b[0m\n\u001b[1;32m    204\u001b[0m     \u001b[0;34m\"\"\"Call target, and fall back on dispatchers if there is a TypeError.\"\"\"\u001b[0m\u001b[0;34m\u001b[0m\u001b[0;34m\u001b[0m\u001b[0m\n\u001b[1;32m    205\u001b[0m     \u001b[0;32mtry\u001b[0m\u001b[0;34m:\u001b[0m\u001b[0;34m\u001b[0m\u001b[0;34m\u001b[0m\u001b[0m\n\u001b[0;32m--> 206\u001b[0;31m       \u001b[0;32mreturn\u001b[0m \u001b[0mtarget\u001b[0m\u001b[0;34m(\u001b[0m\u001b[0;34m*\u001b[0m\u001b[0margs\u001b[0m\u001b[0;34m,\u001b[0m \u001b[0;34m**\u001b[0m\u001b[0mkwargs\u001b[0m\u001b[0;34m)\u001b[0m\u001b[0;34m\u001b[0m\u001b[0;34m\u001b[0m\u001b[0m\n\u001b[0m\u001b[1;32m    207\u001b[0m     \u001b[0;32mexcept\u001b[0m \u001b[0;34m(\u001b[0m\u001b[0mTypeError\u001b[0m\u001b[0;34m,\u001b[0m \u001b[0mValueError\u001b[0m\u001b[0;34m)\u001b[0m\u001b[0;34m:\u001b[0m\u001b[0;34m\u001b[0m\u001b[0;34m\u001b[0m\u001b[0m\n\u001b[1;32m    208\u001b[0m       \u001b[0;31m# Note: convert_to_eager_tensor currently raises a ValueError, not a\u001b[0m\u001b[0;34m\u001b[0m\u001b[0;34m\u001b[0m\u001b[0;34m\u001b[0m\u001b[0m\n",
            "\u001b[0;32m/usr/local/lib/python3.7/dist-packages/tensorflow/python/ops/image_ops_impl.py\u001b[0m in \u001b[0;36mdecode_image\u001b[0;34m(contents, channels, dtype, name, expand_animations)\u001b[0m\n\u001b[1;32m   3208\u001b[0m             \u001b[0mchannels\u001b[0m\u001b[0;34m=\u001b[0m\u001b[0mchannels\u001b[0m\u001b[0;34m,\u001b[0m\u001b[0;34m\u001b[0m\u001b[0;34m\u001b[0m\u001b[0m\n\u001b[1;32m   3209\u001b[0m             \u001b[0mexpand_animations\u001b[0m\u001b[0;34m=\u001b[0m\u001b[0mexpand_animations\u001b[0m\u001b[0;34m,\u001b[0m\u001b[0;34m\u001b[0m\u001b[0;34m\u001b[0m\u001b[0m\n\u001b[0;32m-> 3210\u001b[0;31m             dtype=dtype)\n\u001b[0m\u001b[1;32m   3211\u001b[0m \u001b[0;34m\u001b[0m\u001b[0m\n\u001b[1;32m   3212\u001b[0m     \u001b[0;32mif\u001b[0m \u001b[0mchannels\u001b[0m \u001b[0;32mnot\u001b[0m \u001b[0;32min\u001b[0m \u001b[0;34m(\u001b[0m\u001b[0;32mNone\u001b[0m\u001b[0;34m,\u001b[0m \u001b[0;36m0\u001b[0m\u001b[0;34m,\u001b[0m \u001b[0;36m1\u001b[0m\u001b[0;34m,\u001b[0m \u001b[0;36m3\u001b[0m\u001b[0;34m,\u001b[0m \u001b[0;36m4\u001b[0m\u001b[0;34m)\u001b[0m\u001b[0;34m:\u001b[0m\u001b[0;34m\u001b[0m\u001b[0;34m\u001b[0m\u001b[0m\n",
            "\u001b[0;32m/usr/local/lib/python3.7/dist-packages/tensorflow/python/ops/gen_image_ops.py\u001b[0m in \u001b[0;36mdecode_image\u001b[0;34m(contents, channels, dtype, expand_animations, name)\u001b[0m\n\u001b[1;32m   1046\u001b[0m       \u001b[0;32mreturn\u001b[0m \u001b[0m_result\u001b[0m\u001b[0;34m\u001b[0m\u001b[0;34m\u001b[0m\u001b[0m\n\u001b[1;32m   1047\u001b[0m     \u001b[0;32mexcept\u001b[0m \u001b[0m_core\u001b[0m\u001b[0;34m.\u001b[0m\u001b[0m_NotOkStatusException\u001b[0m \u001b[0;32mas\u001b[0m \u001b[0me\u001b[0m\u001b[0;34m:\u001b[0m\u001b[0;34m\u001b[0m\u001b[0;34m\u001b[0m\u001b[0m\n\u001b[0;32m-> 1048\u001b[0;31m       \u001b[0m_ops\u001b[0m\u001b[0;34m.\u001b[0m\u001b[0mraise_from_not_ok_status\u001b[0m\u001b[0;34m(\u001b[0m\u001b[0me\u001b[0m\u001b[0;34m,\u001b[0m \u001b[0mname\u001b[0m\u001b[0;34m)\u001b[0m\u001b[0;34m\u001b[0m\u001b[0;34m\u001b[0m\u001b[0m\n\u001b[0m\u001b[1;32m   1049\u001b[0m     \u001b[0;32mexcept\u001b[0m \u001b[0m_core\u001b[0m\u001b[0;34m.\u001b[0m\u001b[0m_FallbackException\u001b[0m\u001b[0;34m:\u001b[0m\u001b[0;34m\u001b[0m\u001b[0;34m\u001b[0m\u001b[0m\n\u001b[1;32m   1050\u001b[0m       \u001b[0;32mpass\u001b[0m\u001b[0;34m\u001b[0m\u001b[0;34m\u001b[0m\u001b[0m\n",
            "\u001b[0;32m/usr/local/lib/python3.7/dist-packages/tensorflow/python/framework/ops.py\u001b[0m in \u001b[0;36mraise_from_not_ok_status\u001b[0;34m(e, name)\u001b[0m\n\u001b[1;32m   6895\u001b[0m   \u001b[0mmessage\u001b[0m \u001b[0;34m=\u001b[0m \u001b[0me\u001b[0m\u001b[0;34m.\u001b[0m\u001b[0mmessage\u001b[0m \u001b[0;34m+\u001b[0m \u001b[0;34m(\u001b[0m\u001b[0;34m\" name: \"\u001b[0m \u001b[0;34m+\u001b[0m \u001b[0mname\u001b[0m \u001b[0;32mif\u001b[0m \u001b[0mname\u001b[0m \u001b[0;32mis\u001b[0m \u001b[0;32mnot\u001b[0m \u001b[0;32mNone\u001b[0m \u001b[0;32melse\u001b[0m \u001b[0;34m\"\"\u001b[0m\u001b[0;34m)\u001b[0m\u001b[0;34m\u001b[0m\u001b[0;34m\u001b[0m\u001b[0m\n\u001b[1;32m   6896\u001b[0m   \u001b[0;31m# pylint: disable=protected-access\u001b[0m\u001b[0;34m\u001b[0m\u001b[0;34m\u001b[0m\u001b[0;34m\u001b[0m\u001b[0m\n\u001b[0;32m-> 6897\u001b[0;31m   \u001b[0msix\u001b[0m\u001b[0;34m.\u001b[0m\u001b[0mraise_from\u001b[0m\u001b[0;34m(\u001b[0m\u001b[0mcore\u001b[0m\u001b[0;34m.\u001b[0m\u001b[0m_status_to_exception\u001b[0m\u001b[0;34m(\u001b[0m\u001b[0me\u001b[0m\u001b[0;34m.\u001b[0m\u001b[0mcode\u001b[0m\u001b[0;34m,\u001b[0m \u001b[0mmessage\u001b[0m\u001b[0;34m)\u001b[0m\u001b[0;34m,\u001b[0m \u001b[0;32mNone\u001b[0m\u001b[0;34m)\u001b[0m\u001b[0;34m\u001b[0m\u001b[0;34m\u001b[0m\u001b[0m\n\u001b[0m\u001b[1;32m   6898\u001b[0m   \u001b[0;31m# pylint: enable=protected-access\u001b[0m\u001b[0;34m\u001b[0m\u001b[0;34m\u001b[0m\u001b[0;34m\u001b[0m\u001b[0m\n\u001b[1;32m   6899\u001b[0m \u001b[0;34m\u001b[0m\u001b[0m\n",
            "\u001b[0;32m/usr/local/lib/python3.7/dist-packages/six.py\u001b[0m in \u001b[0;36mraise_from\u001b[0;34m(value, from_value)\u001b[0m\n",
            "\u001b[0;31mInvalidArgumentError\u001b[0m: Unknown image file format. One of JPEG, PNG, GIF, BMP required. [Op:DecodeImage]"
          ]
        }
      ]
    },
    {
      "cell_type": "code",
      "metadata": {
        "colab": {
          "base_uri": "https://localhost:8080/",
          "height": 208
        },
        "id": "xKFhbUynmhxy",
        "outputId": "44c7b533-3105-4d16-d77f-8fabaa883954"
      },
      "source": [
        "img_tensor"
      ],
      "execution_count": 30,
      "outputs": [
        {
          "output_type": "error",
          "ename": "NameError",
          "evalue": "ignored",
          "traceback": [
            "\u001b[0;31m---------------------------------------------------------------------------\u001b[0m",
            "\u001b[0;31mNameError\u001b[0m                                 Traceback (most recent call last)",
            "\u001b[0;32m<ipython-input-30-73df954cfcab>\u001b[0m in \u001b[0;36m<module>\u001b[0;34m()\u001b[0m\n\u001b[0;32m----> 1\u001b[0;31m \u001b[0mimg_tensor\u001b[0m\u001b[0;34m\u001b[0m\u001b[0;34m\u001b[0m\u001b[0m\n\u001b[0m",
            "\u001b[0;31mNameError\u001b[0m: name 'img_tensor' is not defined"
          ]
        }
      ]
    },
    {
      "cell_type": "code",
      "metadata": {
        "id": "d3MQ2aGDn41K"
      },
      "source": [
        "import matplotlib.pyplot as plt\n",
        "plt.imshow(img_tensor)"
      ],
      "execution_count": null,
      "outputs": []
    },
    {
      "cell_type": "code",
      "metadata": {
        "id": "cOfzYTg4n9Gj"
      },
      "source": [
        "img_final = tf.image.resize(img_tensor, [192, 192])\n",
        "img_final = img_final / 255.0\n",
        "print(img_final.shape)\n",
        "print(img_final.numpy().min())\n",
        "print(img_final.numpy().max())"
      ],
      "execution_count": null,
      "outputs": []
    },
    {
      "cell_type": "code",
      "metadata": {
        "id": "z7brmkC_oOtd"
      },
      "source": [
        "img_final"
      ],
      "execution_count": null,
      "outputs": []
    },
    {
      "cell_type": "markdown",
      "metadata": {
        "id": "3Y9QrN_QoRiI"
      },
      "source": [
        "# slicing"
      ]
    },
    {
      "cell_type": "code",
      "metadata": {
        "id": "oM7eG4XAoTby"
      },
      "source": [
        "print(img_final[:, :3])"
      ],
      "execution_count": null,
      "outputs": []
    },
    {
      "cell_type": "markdown",
      "metadata": {
        "id": "zNZ-QMbAoaja"
      },
      "source": [
        "# reshape"
      ]
    },
    {
      "cell_type": "code",
      "metadata": {
        "id": "2kGR1UUDodN7"
      },
      "source": [
        "tf.reshape(img_final, [-1])"
      ],
      "execution_count": null,
      "outputs": []
    },
    {
      "cell_type": "code",
      "metadata": {
        "id": "w5Keh_q4og7k"
      },
      "source": [
        "print(tf.reshape(b, [2, 5, 1]).shape)"
      ],
      "execution_count": null,
      "outputs": []
    }
  ]
}
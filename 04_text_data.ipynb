{
  "nbformat": 4,
  "nbformat_minor": 0,
  "metadata": {
    "colab": {
      "name": "04_text data.ipynb",
      "provenance": [],
      "collapsed_sections": [],
      "authorship_tag": "ABX9TyOjNlZYAG4MFWZ2KvJY+ryG",
      "include_colab_link": true
    },
    "kernelspec": {
      "name": "python3",
      "display_name": "Python 3"
    },
    "language_info": {
      "name": "python"
    }
  },
  "cells": [
    {
      "cell_type": "markdown",
      "metadata": {
        "id": "view-in-github",
        "colab_type": "text"
      },
      "source": [
        "<a href=\"https://colab.research.google.com/github/git933/Machine-Learning/blob/main/04_text_data.ipynb\" target=\"_parent\"><img src=\"https://colab.research.google.com/assets/colab-badge.svg\" alt=\"Open In Colab\"/></a>"
      ]
    },
    {
      "cell_type": "code",
      "metadata": {
        "colab": {
          "base_uri": "https://localhost:8080/"
        },
        "id": "yYLXUquZtSis",
        "outputId": "ec4147ee-efc8-42b8-bb60-64b66f7d0bdc"
      },
      "source": [
        "from google.colab import drive\n",
        "drive.mount('/content/drive')"
      ],
      "execution_count": 1,
      "outputs": [
        {
          "output_type": "stream",
          "text": [
            "Mounted at /content/drive\n"
          ],
          "name": "stdout"
        }
      ]
    },
    {
      "cell_type": "markdown",
      "metadata": {
        "id": "EBTcl4MEtqlS"
      },
      "source": [
        "# DictVectorizer"
      ]
    },
    {
      "cell_type": "code",
      "metadata": {
        "colab": {
          "base_uri": "https://localhost:8080/"
        },
        "id": "svg7fVVdtL6p",
        "outputId": "b3844e49-d694-46d3-e04c-3396df3d1251"
      },
      "source": [
        "from sklearn.feature_extraction import DictVectorizer\n",
        "\n",
        "v = DictVectorizer(sparse = False)\n",
        "D = [{'A' : 1, 'B' : 2}, {'B' : 3, 'C' : 1}]\n",
        "X = v.fit_transform(D)\n",
        "X"
      ],
      "execution_count": 24,
      "outputs": [
        {
          "output_type": "execute_result",
          "data": {
            "text/plain": [
              "array([[1., 2., 0.],\n",
              "       [0., 3., 1.]])"
            ]
          },
          "metadata": {
            "tags": []
          },
          "execution_count": 24
        }
      ]
    },
    {
      "cell_type": "code",
      "metadata": {
        "colab": {
          "base_uri": "https://localhost:8080/"
        },
        "id": "3OA0Z0N_tlH7",
        "outputId": "5bfb9a27-a0c9-4836-bb49-ab68d5138779"
      },
      "source": [
        "v.feature_names_"
      ],
      "execution_count": 3,
      "outputs": [
        {
          "output_type": "execute_result",
          "data": {
            "text/plain": [
              "['A', 'B', 'C']"
            ]
          },
          "metadata": {
            "tags": []
          },
          "execution_count": 3
        }
      ]
    },
    {
      "cell_type": "code",
      "metadata": {
        "colab": {
          "base_uri": "https://localhost:8080/"
        },
        "id": "eCsDLkMDtmzX",
        "outputId": "9dd64704-51ae-4778-98d4-7640fa7c77e5"
      },
      "source": [
        "v.transform({'C' : 4, 'D' : 3})"
      ],
      "execution_count": 4,
      "outputs": [
        {
          "output_type": "execute_result",
          "data": {
            "text/plain": [
              "array([[0., 0., 4.]])"
            ]
          },
          "metadata": {
            "tags": []
          },
          "execution_count": 4
        }
      ]
    },
    {
      "cell_type": "markdown",
      "metadata": {
        "id": "cnTFgR9fts7g"
      },
      "source": [
        "# CountVectorizer"
      ]
    },
    {
      "cell_type": "code",
      "metadata": {
        "colab": {
          "base_uri": "https://localhost:8080/"
        },
        "id": "CK0t3Y9Ztxqq",
        "outputId": "8e39c530-357c-4c42-c86b-029f01ed277c"
      },
      "source": [
        "from sklearn.feature_extraction.text import CountVectorizer\n",
        "\n",
        "corpus = [\n",
        "          'This is the first document.',\n",
        "          'This is the second document.',\n",
        "          'And the third one.',\n",
        "          'Is this the first document?',\n",
        "          'The last document?',\n",
        "]\n",
        "vect = CountVectorizer()\n",
        "vect.fit(corpus)\n",
        "vect.vocabulary_"
      ],
      "execution_count": 25,
      "outputs": [
        {
          "output_type": "execute_result",
          "data": {
            "text/plain": [
              "{'and': 0,\n",
              " 'document': 1,\n",
              " 'first': 2,\n",
              " 'is': 3,\n",
              " 'last': 4,\n",
              " 'one': 5,\n",
              " 'second': 6,\n",
              " 'the': 7,\n",
              " 'third': 8,\n",
              " 'this': 9}"
            ]
          },
          "metadata": {
            "tags": []
          },
          "execution_count": 25
        }
      ]
    },
    {
      "cell_type": "code",
      "metadata": {
        "colab": {
          "base_uri": "https://localhost:8080/"
        },
        "id": "OBsxdj5duKWY",
        "outputId": "afb7305c-1a96-4780-bcda-f046f755dd42"
      },
      "source": [
        "vect.transform(['This is the second document.']).toarray()"
      ],
      "execution_count": 6,
      "outputs": [
        {
          "output_type": "execute_result",
          "data": {
            "text/plain": [
              "array([[0, 1, 0, 1, 0, 0, 1, 1, 0, 1]])"
            ]
          },
          "metadata": {
            "tags": []
          },
          "execution_count": 6
        }
      ]
    },
    {
      "cell_type": "code",
      "metadata": {
        "colab": {
          "base_uri": "https://localhost:8080/"
        },
        "id": "IzgqLQs5ujp0",
        "outputId": "aec42248-d2f8-48dd-97a4-2fc84b407f10"
      },
      "source": [
        "vect.transform(['Something completely new.']).toarray()"
      ],
      "execution_count": 7,
      "outputs": [
        {
          "output_type": "execute_result",
          "data": {
            "text/plain": [
              "array([[0, 0, 0, 0, 0, 0, 0, 0, 0, 0]])"
            ]
          },
          "metadata": {
            "tags": []
          },
          "execution_count": 7
        }
      ]
    },
    {
      "cell_type": "code",
      "metadata": {
        "colab": {
          "base_uri": "https://localhost:8080/"
        },
        "id": "ZWVup5yuux5M",
        "outputId": "fd374ac1-96ef-4c1c-ee44-f948e5a1568b"
      },
      "source": [
        "vect.transform(corpus).toarray()"
      ],
      "execution_count": 8,
      "outputs": [
        {
          "output_type": "execute_result",
          "data": {
            "text/plain": [
              "array([[0, 1, 1, 1, 0, 0, 0, 1, 0, 1],\n",
              "       [0, 1, 0, 1, 0, 0, 1, 1, 0, 1],\n",
              "       [1, 0, 0, 0, 0, 1, 0, 1, 1, 0],\n",
              "       [0, 1, 1, 1, 0, 0, 0, 1, 0, 1],\n",
              "       [0, 1, 0, 0, 1, 0, 0, 1, 0, 0]])"
            ]
          },
          "metadata": {
            "tags": []
          },
          "execution_count": 8
        }
      ]
    },
    {
      "cell_type": "markdown",
      "metadata": {
        "id": "BCC1kSE4u2bn"
      },
      "source": [
        "# stop words"
      ]
    },
    {
      "cell_type": "code",
      "metadata": {
        "colab": {
          "base_uri": "https://localhost:8080/"
        },
        "id": "c0K6toDCu35s",
        "outputId": "80d1e10d-4de4-4eab-ab81-fac8d7443f82"
      },
      "source": [
        "vect = CountVectorizer(stop_words = [\"and\", \"is\", \"the\", \"this\"]).fit(corpus)\n",
        "vect.vocabulary_"
      ],
      "execution_count": 10,
      "outputs": [
        {
          "output_type": "execute_result",
          "data": {
            "text/plain": [
              "{'document': 0, 'first': 1, 'last': 2, 'one': 3, 'second': 4, 'third': 5}"
            ]
          },
          "metadata": {
            "tags": []
          },
          "execution_count": 10
        }
      ]
    },
    {
      "cell_type": "code",
      "metadata": {
        "colab": {
          "base_uri": "https://localhost:8080/"
        },
        "id": "Vpm5pduVvFM0",
        "outputId": "7398b38a-0596-467d-b50e-15e73724224e"
      },
      "source": [
        "vect = CountVectorizer(stop_words = \"english\").fit(corpus)\n",
        "vect.vocabulary_"
      ],
      "execution_count": 11,
      "outputs": [
        {
          "output_type": "execute_result",
          "data": {
            "text/plain": [
              "{'document': 0, 'second': 1}"
            ]
          },
          "metadata": {
            "tags": []
          },
          "execution_count": 11
        }
      ]
    },
    {
      "cell_type": "markdown",
      "metadata": {
        "id": "vhm1nVFAvLkS"
      },
      "source": [
        "# 토큰"
      ]
    },
    {
      "cell_type": "code",
      "metadata": {
        "colab": {
          "base_uri": "https://localhost:8080/"
        },
        "id": "KZVc1MuHvMwV",
        "outputId": "0b424550-11b8-45a8-d987-103b346bfed6"
      },
      "source": [
        "vect = CountVectorizer(analyzer = \"char\").fit(corpus)\n",
        "vect.vocabulary_"
      ],
      "execution_count": 12,
      "outputs": [
        {
          "output_type": "execute_result",
          "data": {
            "text/plain": [
              "{' ': 0,\n",
              " '.': 1,\n",
              " '?': 2,\n",
              " 'a': 3,\n",
              " 'c': 4,\n",
              " 'd': 5,\n",
              " 'e': 6,\n",
              " 'f': 7,\n",
              " 'h': 8,\n",
              " 'i': 9,\n",
              " 'l': 10,\n",
              " 'm': 11,\n",
              " 'n': 12,\n",
              " 'o': 13,\n",
              " 'r': 14,\n",
              " 's': 15,\n",
              " 't': 16,\n",
              " 'u': 17}"
            ]
          },
          "metadata": {
            "tags": []
          },
          "execution_count": 12
        }
      ]
    },
    {
      "cell_type": "code",
      "metadata": {
        "colab": {
          "base_uri": "https://localhost:8080/"
        },
        "id": "9i0N3l69yi5d",
        "outputId": "ab6744d5-20a2-46bc-dc61-21375b25eee5"
      },
      "source": [
        "vect = CountVectorizer(token_pattern = \"t\\w+\").fit(corpus)\n",
        "vect.vocabulary_"
      ],
      "execution_count": 15,
      "outputs": [
        {
          "output_type": "execute_result",
          "data": {
            "text/plain": [
              "{'the': 0, 'third': 1, 'this': 2}"
            ]
          },
          "metadata": {
            "tags": []
          },
          "execution_count": 15
        }
      ]
    },
    {
      "cell_type": "code",
      "metadata": {
        "colab": {
          "base_uri": "https://localhost:8080/"
        },
        "id": "KSRRfpEfy6tf",
        "outputId": "45be0767-f010-4fd2-b29b-9d64551b9bfb"
      },
      "source": [
        "import nltk\n",
        "nltk.download('punkt')\n",
        "\n",
        "vect = CountVectorizer(tokenizer = nltk.word_tokenize).fit(corpus)\n",
        "vect.vocabulary_"
      ],
      "execution_count": 26,
      "outputs": [
        {
          "output_type": "stream",
          "text": [
            "[nltk_data] Downloading package punkt to /root/nltk_data...\n",
            "[nltk_data]   Package punkt is already up-to-date!\n"
          ],
          "name": "stdout"
        },
        {
          "output_type": "stream",
          "text": [
            "/usr/local/lib/python3.7/dist-packages/sklearn/feature_extraction/text.py:507: UserWarning: The parameter 'token_pattern' will not be used since 'tokenizer' is not None'\n",
            "  warnings.warn(\"The parameter 'token_pattern' will not be used\"\n"
          ],
          "name": "stderr"
        },
        {
          "output_type": "execute_result",
          "data": {
            "text/plain": [
              "{'.': 0,\n",
              " '?': 1,\n",
              " 'and': 2,\n",
              " 'document': 3,\n",
              " 'first': 4,\n",
              " 'is': 5,\n",
              " 'last': 6,\n",
              " 'one': 7,\n",
              " 'second': 8,\n",
              " 'the': 9,\n",
              " 'third': 10,\n",
              " 'this': 11}"
            ]
          },
          "metadata": {
            "tags": []
          },
          "execution_count": 26
        }
      ]
    },
    {
      "cell_type": "markdown",
      "metadata": {
        "id": "dXWLd6YEzHay"
      },
      "source": [
        "# n-그램"
      ]
    },
    {
      "cell_type": "code",
      "metadata": {
        "colab": {
          "base_uri": "https://localhost:8080/"
        },
        "id": "TUfqZmoNzJEQ",
        "outputId": "1b665e7a-5c05-4a2a-9f25-18328c991f62"
      },
      "source": [
        "vect = CountVectorizer(ngram_range = (2, 2)).fit(corpus)\n",
        "vect.vocabulary_"
      ],
      "execution_count": 17,
      "outputs": [
        {
          "output_type": "execute_result",
          "data": {
            "text/plain": [
              "{'and the': 0,\n",
              " 'first document': 1,\n",
              " 'is the': 2,\n",
              " 'is this': 3,\n",
              " 'last document': 4,\n",
              " 'second document': 5,\n",
              " 'the first': 6,\n",
              " 'the last': 7,\n",
              " 'the second': 8,\n",
              " 'the third': 9,\n",
              " 'third one': 10,\n",
              " 'this is': 11,\n",
              " 'this the': 12}"
            ]
          },
          "metadata": {
            "tags": []
          },
          "execution_count": 17
        }
      ]
    },
    {
      "cell_type": "code",
      "metadata": {
        "colab": {
          "base_uri": "https://localhost:8080/"
        },
        "id": "Mqb6XJvmzO-T",
        "outputId": "96d154ba-ee2a-4bde-fc12-19e2b1cfabbe"
      },
      "source": [
        "vect = CountVectorizer(ngram_range = (1, 2), token_pattern = \"t\\w+\").fit(corpus)\n",
        "vect.vocabulary_"
      ],
      "execution_count": 18,
      "outputs": [
        {
          "output_type": "execute_result",
          "data": {
            "text/plain": [
              "{'the': 0, 'the third': 1, 'third': 2, 'this': 3, 'this the': 4}"
            ]
          },
          "metadata": {
            "tags": []
          },
          "execution_count": 18
        }
      ]
    },
    {
      "cell_type": "markdown",
      "metadata": {
        "id": "snjg2f6XzdbC"
      },
      "source": [
        "# 빈도수"
      ]
    },
    {
      "cell_type": "code",
      "metadata": {
        "colab": {
          "base_uri": "https://localhost:8080/"
        },
        "id": "ai9vWcklzfSO",
        "outputId": "2602918d-4758-4a5f-a44b-f995a287850f"
      },
      "source": [
        "vect = CountVectorizer(max_df = 4, min_df = 2).fit(corpus)\n",
        "vect.vocabulary_, vect.stop_words_"
      ],
      "execution_count": 19,
      "outputs": [
        {
          "output_type": "execute_result",
          "data": {
            "text/plain": [
              "({'document': 0, 'first': 1, 'is': 2, 'this': 3},\n",
              " {'and', 'last', 'one', 'second', 'the', 'third'})"
            ]
          },
          "metadata": {
            "tags": []
          },
          "execution_count": 19
        }
      ]
    },
    {
      "cell_type": "code",
      "metadata": {
        "colab": {
          "base_uri": "https://localhost:8080/"
        },
        "id": "ZI3bZypgzm1w",
        "outputId": "7a5f87f7-9c17-47ef-ac6b-bdd3a4f75fbc"
      },
      "source": [
        "vect.transform(corpus).toarray().sum(axis = 0)"
      ],
      "execution_count": 20,
      "outputs": [
        {
          "output_type": "execute_result",
          "data": {
            "text/plain": [
              "array([4, 2, 3, 3])"
            ]
          },
          "metadata": {
            "tags": []
          },
          "execution_count": 20
        }
      ]
    },
    {
      "cell_type": "markdown",
      "metadata": {
        "id": "IHQp0D8Hzqem"
      },
      "source": [
        "# TF-IDF"
      ]
    },
    {
      "cell_type": "code",
      "metadata": {
        "id": "TPM5zbHI0eD0"
      },
      "source": [
        "import os\n",
        "import sys\n",
        "import numpy\n",
        "\n",
        "from sklearn.feature_extraction.text import CountVectorizer\n",
        "from sklearn.feature_extraction.text import TfidfTransformer\n",
        "from sklearn.feature_extraction.text import TfidfVectorizer"
      ],
      "execution_count": 32,
      "outputs": []
    },
    {
      "cell_type": "code",
      "metadata": {
        "id": "S9ugVcKPzt2e"
      },
      "source": [
        "from sklearn.feature_extraction.text import TfidfTransformer"
      ],
      "execution_count": 30,
      "outputs": []
    },
    {
      "cell_type": "code",
      "metadata": {
        "colab": {
          "base_uri": "https://localhost:8080/"
        },
        "id": "qbALHOK20DNd",
        "outputId": "5665ebec-f3ce-4604-9909-4911b4d6b654"
      },
      "source": [
        "tfidv = TfidfVectorizer().fit(corpus)\n",
        "tfidv.transform(corpus).toarray()"
      ],
      "execution_count": 33,
      "outputs": [
        {
          "output_type": "execute_result",
          "data": {
            "text/plain": [
              "array([[0.        , 0.38947624, 0.55775063, 0.4629834 , 0.        ,\n",
              "        0.        , 0.        , 0.32941651, 0.        , 0.4629834 ],\n",
              "       [0.        , 0.36055905, 0.        , 0.42860858, 0.        ,\n",
              "        0.        , 0.63998972, 0.30495853, 0.        , 0.42860858],\n",
              "       [0.55666851, 0.        , 0.        , 0.        , 0.        ,\n",
              "        0.55666851, 0.        , 0.26525553, 0.55666851, 0.        ],\n",
              "       [0.        , 0.38947624, 0.55775063, 0.4629834 , 0.        ,\n",
              "        0.        , 0.        , 0.32941651, 0.        , 0.4629834 ],\n",
              "       [0.        , 0.45333103, 0.        , 0.        , 0.80465933,\n",
              "        0.        , 0.        , 0.38342448, 0.        , 0.        ]])"
            ]
          },
          "metadata": {
            "tags": []
          },
          "execution_count": 33
        }
      ]
    },
    {
      "cell_type": "markdown",
      "metadata": {
        "id": "UGn-TF8K0lOQ"
      },
      "source": [
        "# hashing trick"
      ]
    },
    {
      "cell_type": "code",
      "metadata": {
        "colab": {
          "base_uri": "https://localhost:8080/"
        },
        "id": "XCXC2ocM0pNm",
        "outputId": "e34832d5-11b2-494a-80ab-d6db28b34979"
      },
      "source": [
        "from sklearn.datasets import fetch_20newsgroups\n",
        "twenty = fetch_20newsgroups()\n",
        "len(twenty.data)"
      ],
      "execution_count": 34,
      "outputs": [
        {
          "output_type": "stream",
          "text": [
            "Downloading 20news dataset. This may take a few minutes.\n",
            "Downloading dataset from https://ndownloader.figshare.com/files/5975967 (14 MB)\n"
          ],
          "name": "stderr"
        },
        {
          "output_type": "execute_result",
          "data": {
            "text/plain": [
              "11314"
            ]
          },
          "metadata": {
            "tags": []
          },
          "execution_count": 34
        }
      ]
    },
    {
      "cell_type": "code",
      "metadata": {
        "colab": {
          "base_uri": "https://localhost:8080/"
        },
        "id": "dU_bMCpu00fm",
        "outputId": "12f3d756-203c-423d-e03b-7fcde31d19ff"
      },
      "source": [
        "%time CountVectorizer().fit(twenty.data).transform(twenty.data);"
      ],
      "execution_count": 35,
      "outputs": [
        {
          "output_type": "stream",
          "text": [
            "CPU times: user 6.16 s, sys: 23.8 ms, total: 6.19 s\n",
            "Wall time: 6.2 s\n"
          ],
          "name": "stdout"
        },
        {
          "output_type": "execute_result",
          "data": {
            "text/plain": [
              "<11314x130107 sparse matrix of type '<class 'numpy.int64'>'\n",
              "\twith 1787565 stored elements in Compressed Sparse Row format>"
            ]
          },
          "metadata": {
            "tags": []
          },
          "execution_count": 35
        }
      ]
    },
    {
      "cell_type": "code",
      "metadata": {
        "id": "IXjNUqnY10XW"
      },
      "source": [
        "from sklearn.feature_extraction.text import HashingVectorizer\n",
        "hv = HashingVectorizer(n_features = 300000)"
      ],
      "execution_count": 36,
      "outputs": []
    },
    {
      "cell_type": "code",
      "metadata": {
        "colab": {
          "base_uri": "https://localhost:8080/"
        },
        "id": "EDzZLTkp19yh",
        "outputId": "9ac99832-8382-4c09-b44e-6289114c6bd5"
      },
      "source": [
        "%time hv.transform(twenty.data);"
      ],
      "execution_count": 37,
      "outputs": [
        {
          "output_type": "stream",
          "text": [
            "CPU times: user 2.19 s, sys: 4.87 ms, total: 2.2 s\n",
            "Wall time: 2.21 s\n"
          ],
          "name": "stdout"
        },
        {
          "output_type": "execute_result",
          "data": {
            "text/plain": [
              "<11314x300000 sparse matrix of type '<class 'numpy.float64'>'\n",
              "\twith 1786336 stored elements in Compressed Sparse Row format>"
            ]
          },
          "metadata": {
            "tags": []
          },
          "execution_count": 37
        }
      ]
    }
  ]
}